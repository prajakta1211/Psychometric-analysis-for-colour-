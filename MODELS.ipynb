{
  "nbformat": 4,
  "nbformat_minor": 0,
  "metadata": {
    "colab": {
      "name": "MODELS.ipynb",
      "provenance": [],
      "collapsed_sections": [],
      "include_colab_link": true
    },
    "kernelspec": {
      "name": "python3",
      "display_name": "Python 3"
    },
    "language_info": {
      "name": "python"
    }
  },
  "cells": [
    {
      "cell_type": "markdown",
      "metadata": {
        "id": "view-in-github",
        "colab_type": "text"
      },
      "source": [
        "<a href=\"https://colab.research.google.com/github/prajakta1211/Psychometric-analysis-for-colour-/blob/main/MODELS.ipynb\" target=\"_parent\"><img src=\"https://colab.research.google.com/assets/colab-badge.svg\" alt=\"Open In Colab\"/></a>"
      ]
    },
    {
      "cell_type": "code",
      "execution_count": null,
      "metadata": {
        "colab": {
          "base_uri": "https://localhost:8080/",
          "height": 288
        },
        "id": "Y9HOJZWO6qjX",
        "outputId": "17b6b0de-584e-4e26-8024-3093ec02de2d"
      },
      "outputs": [
        {
          "output_type": "execute_result",
          "data": {
            "text/plain": [
              "   Gender    Age  PARAM 1  PARAM 2  PARAM 3  PARAM 4  PARAM 5  PARAM 6  \\\n",
              "0       1  19.70       44       55       55       33       57       80   \n",
              "1       1  19.10       55       44       66        0       42       80   \n",
              "2       1  20.10       33       33       22       33       71       60   \n",
              "3       1  19.70       11      100       66       66       28       40   \n",
              "4       1  19.11       66       55       22       44       42       20   \n",
              "\n",
              "   PARAM 7  PARAM 8  OUTPUT 1  OUTPUT 2  OUTPUT 3  OUTPUT 4  OUTPUT 5  \\\n",
              "0        0        1       0.0       1.0       0.0       0.0       1.0   \n",
              "1        0        1       0.0       1.0       0.0       0.0       1.0   \n",
              "2        0        1       0.0       0.0       0.0       0.0       0.0   \n",
              "3        0        1       0.0       0.0       0.0       0.0       1.0   \n",
              "4        0        1       0.0       0.0       0.0       0.0       1.0   \n",
              "\n",
              "   OUTPUT 6  OUTPUT 7  OUTPUT 8  \n",
              "0       0.0       0.0       0.0  \n",
              "1       0.0       0.0       0.0  \n",
              "2       0.0       1.0       1.0  \n",
              "3       0.0       0.0       1.0  \n",
              "4       0.0       1.0       0.0  "
            ],
            "text/html": [
              "\n",
              "  <div id=\"df-8f5250fe-5b6a-41ab-9ba8-1858a3d34f0b\">\n",
              "    <div class=\"colab-df-container\">\n",
              "      <div>\n",
              "<style scoped>\n",
              "    .dataframe tbody tr th:only-of-type {\n",
              "        vertical-align: middle;\n",
              "    }\n",
              "\n",
              "    .dataframe tbody tr th {\n",
              "        vertical-align: top;\n",
              "    }\n",
              "\n",
              "    .dataframe thead th {\n",
              "        text-align: right;\n",
              "    }\n",
              "</style>\n",
              "<table border=\"1\" class=\"dataframe\">\n",
              "  <thead>\n",
              "    <tr style=\"text-align: right;\">\n",
              "      <th></th>\n",
              "      <th>Gender</th>\n",
              "      <th>Age</th>\n",
              "      <th>PARAM 1</th>\n",
              "      <th>PARAM 2</th>\n",
              "      <th>PARAM 3</th>\n",
              "      <th>PARAM 4</th>\n",
              "      <th>PARAM 5</th>\n",
              "      <th>PARAM 6</th>\n",
              "      <th>PARAM 7</th>\n",
              "      <th>PARAM 8</th>\n",
              "      <th>OUTPUT 1</th>\n",
              "      <th>OUTPUT 2</th>\n",
              "      <th>OUTPUT 3</th>\n",
              "      <th>OUTPUT 4</th>\n",
              "      <th>OUTPUT 5</th>\n",
              "      <th>OUTPUT 6</th>\n",
              "      <th>OUTPUT 7</th>\n",
              "      <th>OUTPUT 8</th>\n",
              "    </tr>\n",
              "  </thead>\n",
              "  <tbody>\n",
              "    <tr>\n",
              "      <th>0</th>\n",
              "      <td>1</td>\n",
              "      <td>19.70</td>\n",
              "      <td>44</td>\n",
              "      <td>55</td>\n",
              "      <td>55</td>\n",
              "      <td>33</td>\n",
              "      <td>57</td>\n",
              "      <td>80</td>\n",
              "      <td>0</td>\n",
              "      <td>1</td>\n",
              "      <td>0.0</td>\n",
              "      <td>1.0</td>\n",
              "      <td>0.0</td>\n",
              "      <td>0.0</td>\n",
              "      <td>1.0</td>\n",
              "      <td>0.0</td>\n",
              "      <td>0.0</td>\n",
              "      <td>0.0</td>\n",
              "    </tr>\n",
              "    <tr>\n",
              "      <th>1</th>\n",
              "      <td>1</td>\n",
              "      <td>19.10</td>\n",
              "      <td>55</td>\n",
              "      <td>44</td>\n",
              "      <td>66</td>\n",
              "      <td>0</td>\n",
              "      <td>42</td>\n",
              "      <td>80</td>\n",
              "      <td>0</td>\n",
              "      <td>1</td>\n",
              "      <td>0.0</td>\n",
              "      <td>1.0</td>\n",
              "      <td>0.0</td>\n",
              "      <td>0.0</td>\n",
              "      <td>1.0</td>\n",
              "      <td>0.0</td>\n",
              "      <td>0.0</td>\n",
              "      <td>0.0</td>\n",
              "    </tr>\n",
              "    <tr>\n",
              "      <th>2</th>\n",
              "      <td>1</td>\n",
              "      <td>20.10</td>\n",
              "      <td>33</td>\n",
              "      <td>33</td>\n",
              "      <td>22</td>\n",
              "      <td>33</td>\n",
              "      <td>71</td>\n",
              "      <td>60</td>\n",
              "      <td>0</td>\n",
              "      <td>1</td>\n",
              "      <td>0.0</td>\n",
              "      <td>0.0</td>\n",
              "      <td>0.0</td>\n",
              "      <td>0.0</td>\n",
              "      <td>0.0</td>\n",
              "      <td>0.0</td>\n",
              "      <td>1.0</td>\n",
              "      <td>1.0</td>\n",
              "    </tr>\n",
              "    <tr>\n",
              "      <th>3</th>\n",
              "      <td>1</td>\n",
              "      <td>19.70</td>\n",
              "      <td>11</td>\n",
              "      <td>100</td>\n",
              "      <td>66</td>\n",
              "      <td>66</td>\n",
              "      <td>28</td>\n",
              "      <td>40</td>\n",
              "      <td>0</td>\n",
              "      <td>1</td>\n",
              "      <td>0.0</td>\n",
              "      <td>0.0</td>\n",
              "      <td>0.0</td>\n",
              "      <td>0.0</td>\n",
              "      <td>1.0</td>\n",
              "      <td>0.0</td>\n",
              "      <td>0.0</td>\n",
              "      <td>1.0</td>\n",
              "    </tr>\n",
              "    <tr>\n",
              "      <th>4</th>\n",
              "      <td>1</td>\n",
              "      <td>19.11</td>\n",
              "      <td>66</td>\n",
              "      <td>55</td>\n",
              "      <td>22</td>\n",
              "      <td>44</td>\n",
              "      <td>42</td>\n",
              "      <td>20</td>\n",
              "      <td>0</td>\n",
              "      <td>1</td>\n",
              "      <td>0.0</td>\n",
              "      <td>0.0</td>\n",
              "      <td>0.0</td>\n",
              "      <td>0.0</td>\n",
              "      <td>1.0</td>\n",
              "      <td>0.0</td>\n",
              "      <td>1.0</td>\n",
              "      <td>0.0</td>\n",
              "    </tr>\n",
              "  </tbody>\n",
              "</table>\n",
              "</div>\n",
              "      <button class=\"colab-df-convert\" onclick=\"convertToInteractive('df-8f5250fe-5b6a-41ab-9ba8-1858a3d34f0b')\"\n",
              "              title=\"Convert this dataframe to an interactive table.\"\n",
              "              style=\"display:none;\">\n",
              "        \n",
              "  <svg xmlns=\"http://www.w3.org/2000/svg\" height=\"24px\"viewBox=\"0 0 24 24\"\n",
              "       width=\"24px\">\n",
              "    <path d=\"M0 0h24v24H0V0z\" fill=\"none\"/>\n",
              "    <path d=\"M18.56 5.44l.94 2.06.94-2.06 2.06-.94-2.06-.94-.94-2.06-.94 2.06-2.06.94zm-11 1L8.5 8.5l.94-2.06 2.06-.94-2.06-.94L8.5 2.5l-.94 2.06-2.06.94zm10 10l.94 2.06.94-2.06 2.06-.94-2.06-.94-.94-2.06-.94 2.06-2.06.94z\"/><path d=\"M17.41 7.96l-1.37-1.37c-.4-.4-.92-.59-1.43-.59-.52 0-1.04.2-1.43.59L10.3 9.45l-7.72 7.72c-.78.78-.78 2.05 0 2.83L4 21.41c.39.39.9.59 1.41.59.51 0 1.02-.2 1.41-.59l7.78-7.78 2.81-2.81c.8-.78.8-2.07 0-2.86zM5.41 20L4 18.59l7.72-7.72 1.47 1.35L5.41 20z\"/>\n",
              "  </svg>\n",
              "      </button>\n",
              "      \n",
              "  <style>\n",
              "    .colab-df-container {\n",
              "      display:flex;\n",
              "      flex-wrap:wrap;\n",
              "      gap: 12px;\n",
              "    }\n",
              "\n",
              "    .colab-df-convert {\n",
              "      background-color: #E8F0FE;\n",
              "      border: none;\n",
              "      border-radius: 50%;\n",
              "      cursor: pointer;\n",
              "      display: none;\n",
              "      fill: #1967D2;\n",
              "      height: 32px;\n",
              "      padding: 0 0 0 0;\n",
              "      width: 32px;\n",
              "    }\n",
              "\n",
              "    .colab-df-convert:hover {\n",
              "      background-color: #E2EBFA;\n",
              "      box-shadow: 0px 1px 2px rgba(60, 64, 67, 0.3), 0px 1px 3px 1px rgba(60, 64, 67, 0.15);\n",
              "      fill: #174EA6;\n",
              "    }\n",
              "\n",
              "    [theme=dark] .colab-df-convert {\n",
              "      background-color: #3B4455;\n",
              "      fill: #D2E3FC;\n",
              "    }\n",
              "\n",
              "    [theme=dark] .colab-df-convert:hover {\n",
              "      background-color: #434B5C;\n",
              "      box-shadow: 0px 1px 3px 1px rgba(0, 0, 0, 0.15);\n",
              "      filter: drop-shadow(0px 1px 2px rgba(0, 0, 0, 0.3));\n",
              "      fill: #FFFFFF;\n",
              "    }\n",
              "  </style>\n",
              "\n",
              "      <script>\n",
              "        const buttonEl =\n",
              "          document.querySelector('#df-8f5250fe-5b6a-41ab-9ba8-1858a3d34f0b button.colab-df-convert');\n",
              "        buttonEl.style.display =\n",
              "          google.colab.kernel.accessAllowed ? 'block' : 'none';\n",
              "\n",
              "        async function convertToInteractive(key) {\n",
              "          const element = document.querySelector('#df-8f5250fe-5b6a-41ab-9ba8-1858a3d34f0b');\n",
              "          const dataTable =\n",
              "            await google.colab.kernel.invokeFunction('convertToInteractive',\n",
              "                                                     [key], {});\n",
              "          if (!dataTable) return;\n",
              "\n",
              "          const docLinkHtml = 'Like what you see? Visit the ' +\n",
              "            '<a target=\"_blank\" href=https://colab.research.google.com/notebooks/data_table.ipynb>data table notebook</a>'\n",
              "            + ' to learn more about interactive tables.';\n",
              "          element.innerHTML = '';\n",
              "          dataTable['output_type'] = 'display_data';\n",
              "          await google.colab.output.renderOutput(dataTable, element);\n",
              "          const docLink = document.createElement('div');\n",
              "          docLink.innerHTML = docLinkHtml;\n",
              "          element.appendChild(docLink);\n",
              "        }\n",
              "      </script>\n",
              "    </div>\n",
              "  </div>\n",
              "  "
            ]
          },
          "metadata": {},
          "execution_count": 6
        }
      ],
      "source": [
        "import numpy as np\n",
        "import pandas \n",
        "import matplotlib.pyplot as plt\n",
        "from sklearn.datasets import make_classification\n",
        "from sklearn.svm import SVC\n",
        "from sklearn.model_selection import train_test_split\n",
        "\n",
        "\n",
        "\n",
        "dataframe = pandas.read_csv(\"/content/Group A  DataSet - Colour and Personality data-12.3.22- for CCEWPUNE.csv\")\n",
        "dataframe.drop(dataframe.columns[0],axis=1,inplace=True)\n",
        "dataframe['Gender'] = dataframe['Gender'].replace(\"Female\",1)\n",
        "dataframe['Gender'] = dataframe['Gender'].replace(\"Male\",0)\n",
        "dataframe['Age'].fillna(value=dataframe['Age'].mean(),inplace=True)\n",
        "dataframe.fillna(value=0,inplace=True)\n",
        "#dataframe.drop(dataframe.loc[:,'OUTPUT 2':'OUTPUT 8'].columns,axis=1,inplace=True)\n",
        "\n",
        "dataframe.head()\n",
        "\n"
      ]
    },
    {
      "cell_type": "code",
      "source": [
        "import seaborn as sns\n",
        "# sns.boxplot(dataframe['Age'])\n",
        "print(np.where(dataframe['Age']>1750))\n",
        "sns.boxplot(dataframe['PARAM 5'])\n",
        "\n"
      ],
      "metadata": {
        "colab": {
          "base_uri": "https://localhost:8080/",
          "height": 368
        },
        "id": "yWUX3UjU-e4n",
        "outputId": "f6b2bec4-be72-4214-cadd-1c180e549ff2"
      },
      "execution_count": null,
      "outputs": [
        {
          "output_type": "stream",
          "name": "stdout",
          "text": [
            "(array([1453]),)\n"
          ]
        },
        {
          "output_type": "stream",
          "name": "stderr",
          "text": [
            "/usr/local/lib/python3.7/dist-packages/seaborn/_decorators.py:43: FutureWarning: Pass the following variable as a keyword arg: x. From version 0.12, the only valid positional argument will be `data`, and passing other arguments without an explicit keyword will result in an error or misinterpretation.\n",
            "  FutureWarning\n"
          ]
        },
        {
          "output_type": "execute_result",
          "data": {
            "text/plain": [
              "<matplotlib.axes._subplots.AxesSubplot at 0x7fe18aad6190>"
            ]
          },
          "metadata": {},
          "execution_count": 19
        },
        {
          "output_type": "display_data",
          "data": {
            "text/plain": [
              "<Figure size 432x288 with 1 Axes>"
            ],
            "image/png": "[encoded data removed]"
          },
          "metadata": {
            "needs_background": "light"
          }
        }
      ]
    },
    {
      "cell_type": "code",
      "source": [
        "# get the dataset\n",
        "def get_dataset():\n",
        "  Xfeatures = dataframe[['Gender','Age','PARAM 1','PARAM 3','PARAM 4','PARAM 5','PARAM 6','PARAM 7']]\n",
        "  ylabels = dataframe['OUTPUT 2']\n",
        "\n",
        "  X = Xfeatures.to_numpy()\n",
        "  y = ylabels.to_numpy()\n",
        "  return X,y\n",
        " "
      ],
      "metadata": {
        "id": "MOXfAgIjUu_9"
      },
      "execution_count": null,
      "outputs": []
    },
    {
      "cell_type": "code",
      "source": [
        "\n",
        "# SVM for multi-class classification using built-in one-vs-one\n",
        "from sklearn.datasets import make_classification\n",
        "from sklearn.svm import SVC\n",
        "# define dataset\n",
        "features = dataframe[['Gender','Age','PARAM 1','PARAM 3','PARAM 4','PARAM 5','PARAM 6','PARAM 7']]\n",
        "labels = dataframe['OUTPUT 1']\n",
        "X_train, X_test, y_train, y_test = train_test_split(features,labels,test_size=0.25, random_state=0)\n",
        "# define model\n",
        "model = SVC(decision_function_shape='ovo')\n",
        "# fit model\n",
        "model.fit(X_train, y_train)\n",
        "# make predictions\n",
        "yhat = model.predict(X_test)\n",
        "score = model.score(X_test, y_test)\n",
        "print(score)"
      ],
      "metadata": {
        "colab": {
          "base_uri": "https://localhost:8080/"
        },
        "id": "L9EMyf2L8LCO",
        "outputId": "cc8e04bc-938d-45d2-f01f-6c4ac1eced67"
      },
      "execution_count": null,
      "outputs": [
        {
          "output_type": "stream",
          "name": "stdout",
          "text": [
            "0.741106719367589\n"
          ]
        }
      ]
    },
    {
      "cell_type": "code",
      "source": [
        "# logistic regression for multi-class classification using built-in one-vs-rest\n",
        "from sklearn.datasets import make_classification\n",
        "from sklearn.linear_model import LogisticRegression\n",
        "from sklearn.model_selection import train_test_split\n",
        "# define dataset\n",
        "\n",
        "features = dataframe[['Gender','Age','PARAM 1','PARAM 3','PARAM 4','PARAM 5','PARAM 6','PARAM 7']]\n",
        "labels = dataframe['OUTPUT 1']\n",
        "X_train, X_test, y_train, y_test = train_test_split(features,labels,test_size=0.25, random_state=0)\n",
        "# define model\n",
        "logisticRegr = LogisticRegression(multi_class='ovr')\n",
        "# fit model\n",
        "logisticRegr.fit(X_train, y_train)\n",
        "threshold = 0.5\n",
        "# make predictions\n",
        "predictions = logisticRegr.predict(X_test)\n",
        "score = logisticRegr.score(X_test, y_test)\n",
        "print(score)"
      ],
      "metadata": {
        "id": "XBxn94FvAu-v",
        "colab": {
          "base_uri": "https://localhost:8080/"
        },
        "outputId": "36e22fa2-9f6f-4856-d412-898b4a5ff81c"
      },
      "execution_count": null,
      "outputs": [
        {
          "output_type": "stream",
          "name": "stdout",
          "text": [
            "0.741106719367589\n"
          ]
        }
      ]
    },
    {
      "cell_type": "code",
      "source": [
        "# Here we are using 7 different estimators with Grid search to find the best model.\n",
        "\n",
        "from sklearn.ensemble import RandomForestClassifier\n",
        "from sklearn.svm import LinearSVC\n",
        "from sklearn import svm  \n",
        "from sklearn.naive_bayes import MultinomialNB\n",
        "from sklearn.linear_model import SGDClassifier\n",
        "from sklearn.tree import DecisionTreeClassifier\n",
        "from sklearn.neighbors import KNeighborsClassifier\n",
        "\n",
        "from sklearn.metrics import accuracy_score\n",
        "from sklearn.model_selection import GridSearchCV\n",
        "\n",
        "# ignore ConvergenceWarnings\n",
        "from  warnings import simplefilter\n",
        "from sklearn.exceptions import ConvergenceWarning\n",
        "simplefilter(\"ignore\", category=ConvergenceWarning)\n",
        "features = dataframe[['Gender','Age','PARAM 1','PARAM 3','PARAM 4','PARAM 5','PARAM 6','PARAM 7']]\n",
        "labels = dataframe['OUTPUT 1']\n",
        "X_train, X_test, y_train, y_test = train_test_split(features,labels,test_size=0.25, random_state=0)\n",
        "models = [\n",
        "    { \"estimater\": KNeighborsClassifier(),\n",
        "      \"params\": {\n",
        "          \"n_neighbors\": [25,30,35,45],\n",
        "          \"weights\": ['uniform','distance'],\n",
        "          \"leaf_size\": [25,30,35],\n",
        "          \"p\": [1,2,3],\n",
        "        }\n",
        "    },\n",
        "    { \"estimater\": DecisionTreeClassifier(),\n",
        "      \"params\": {\n",
        "          \"criterion\": ['gini','entropy'],\n",
        "          \"splitter\": ['best','random'],\n",
        "          \"max_depth\": [None,90,95,100],\n",
        "          \"max_features\": [None, \"auto\",\"sqrt\",\"log2\"],\n",
        "          \"random_state\": [42]\n",
        "      }\n",
        "    },\n",
        "    { \"estimater\": MultinomialNB(),\n",
        "      \"params\": {\n",
        "          \"fit_prior\": [True, False]    \n",
        "      }\n",
        "    },\n",
        "    { \"estimater\": LinearSVC(),\n",
        "      \"params\": {\n",
        "          \"loss\": ['hinge','squared_hinge'],\n",
        "          \"multi_class\": ['ovr', 'crammer_singer'],\n",
        "          \"fit_intercept\": [True, False],\n",
        "          \"random_state\": [42],\n",
        "          \"max_iter\": [900, 1000, 1100]\n",
        "      }\n",
        "    },\n",
        "    { \"estimater\": svm.SVC(),\n",
        "      \"params\": {\n",
        "          'C': [0.1,1, 10, 100, 1000], 'gamma': [1,0.1,0.01,0.001,0.0001], 'kernel': ['rbf']\n",
        "      }\n",
        "    },\n",
        "    { \"estimater\": RandomForestClassifier(),\n",
        "      \"params\": {\n",
        "      \"criterion\": ['gini','entropy'],\n",
        "      \"bootstrap\": [True, False],\n",
        "      \"max_depth\": [85,90,95,100],\n",
        "      \"max_features\": ['sqrt','log2'],\n",
        "      \"n_estimators\": [60, 80, 90],\n",
        "      \"random_state\": [42]\n",
        "      }\n",
        "    },\n",
        "    { \"estimater\": SGDClassifier(),\n",
        "      \"params\": {\n",
        "          \"loss\": ['hinge','log','perceptron'], \n",
        "          \"penalty\": ['l2', 'l1'], \n",
        "          \"alpha\": [0.0001, 0.0003, 0.0010],\n",
        "          \"early_stopping\": [True],\n",
        "          \"max_iter\": [1000, 1500],\n",
        "          \"random_state\": [42]\n",
        "      }\n",
        "    }\n",
        "]\n",
        "\n",
        "column_names = [\"KNeighbors\", \"DecisionTree\", \"MultiNB\", \"SVC\", \"SVM\", \"RFC\", \"SGDClassifier\"]\n",
        "entries = []\n",
        "\n",
        "highest_acc = 0\n",
        "best_model = None\n",
        "\n",
        "for model in models:\n",
        "  print(model[\"estimater\"])\n",
        "\n",
        "  # Create model\n",
        "  clf = model[\"estimater\"]\n",
        "  # Instantiate the grid search model\n",
        "  grid_search = GridSearchCV(estimator = clf, param_grid = model[\"params\"], \n",
        "                            cv = 5)\n",
        "  \n",
        "  # Fit the model\n",
        "  grid_search.fit(X_train, y_train);\n",
        "\n",
        "  # Make a prediction on the test split to find model accuracy\n",
        "  predicted = grid_search.predict(X_test)\n",
        "  acc = accuracy_score(predicted, y_test)\n",
        "  entries.append(acc)\n",
        "\n",
        "  print(grid_search.best_params_)\n",
        "\n",
        "  # If model have the highest accuracy, it's out best model\n",
        "  if acc > highest_acc:\n",
        "    highest_acc = acc\n",
        "    best_model = grid_search\n",
        "\n"
      ],
      "metadata": {
        "colab": {
          "base_uri": "https://localhost:8080/"
        },
        "id": "eZJaf08pb156",
        "outputId": "a0d271b4-0292-48c4-9584-db386c028c34"
      },
      "execution_count": null,
      "outputs": [
        {
          "output_type": "stream",
          "name": "stdout",
          "text": [
            "KNeighborsClassifier()\n",
            "{'leaf_size': 25, 'n_neighbors': 45, 'p': 3, 'weights': 'distance'}\n",
            "DecisionTreeClassifier()\n",
            "{'criterion': 'entropy', 'max_depth': None, 'max_features': 'auto', 'random_state': 42, 'splitter': 'random'}\n",
            "MultinomialNB()\n",
            "{'fit_prior': True}\n",
            "LinearSVC()\n",
            "{'fit_intercept': True, 'loss': 'hinge', 'max_iter': 900, 'multi_class': 'crammer_singer', 'random_state': 42}\n",
            "SVC()\n",
            "{'C': 1, 'gamma': 1, 'kernel': 'rbf'}\n",
            "RandomForestClassifier()\n",
            "{'bootstrap': True, 'criterion': 'entropy', 'max_depth': 85, 'max_features': 'sqrt', 'n_estimators': 80, 'random_state': 42}\n",
            "SGDClassifier()\n",
            "{'alpha': 0.001, 'early_stopping': True, 'loss': 'hinge', 'max_iter': 1000, 'penalty': 'l2', 'random_state': 42}\n"
          ]
        }
      ]
    },
    {
      "cell_type": "code",
      "source": [
        "import seaborn as sns\n",
        "import pandas as pd\n",
        "import matplotlib.pyplot as plt\n",
        "plt.style.use('ggplot')\n",
        "column_names = [\"KNeighbors\", \"DecisionTree\", \"MultiNB\", \"SVC\", \"SVM\", \"RFC\", \"SGDClassifier\"]\n",
        "\n",
        "df = pd.DataFrame({\"Estimater\": column_names, \n",
        "                   \"Accuracy\": entries\n",
        "                  })\n",
        "\n",
        "\n",
        "plt.figure(figsize=(8, 4))\n",
        "sns.barplot(x='Estimater', y='Accuracy', data=df)\n",
        "print(df)"
      ],
      "metadata": {
        "colab": {
          "base_uri": "https://localhost:8080/",
          "height": 421
        },
        "id": "kImYHdnpWpP-",
        "outputId": "54168213-9a93-47e0-afcf-ef2b478a88ff"
      },
      "execution_count": null,
      "outputs": [
        {
          "output_type": "stream",
          "name": "stdout",
          "text": [
            "       Estimater  Accuracy\n",
            "0     KNeighbors  0.743083\n",
            "1   DecisionTree  0.632411\n",
            "2        MultiNB  0.713439\n",
            "3            SVC  0.741107\n",
            "4            SVM  0.747036\n",
            "5            RFC  0.731225\n",
            "6  SGDClassifier  0.715415\n"
          ]
        },
        {
          "output_type": "display_data",
          "data": {
            "text/plain": [
              "<Figure size 576x288 with 1 Axes>"
            ],
            "image/png": "[encoded data removed]"
          },
          "metadata": {}
        }
      ]
    }
  ]
}